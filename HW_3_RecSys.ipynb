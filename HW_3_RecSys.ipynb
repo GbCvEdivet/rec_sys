{
 "cells": [
  {
   "cell_type": "markdown",
   "metadata": {
    "id": "JZ3pUNnTuNem"
   },
   "source": [
    "# Практическое задание"
   ]
  },
  {
   "cell_type": "code",
   "execution_count": null,
   "metadata": {
    "colab": {
     "base_uri": "https://localhost:8080/"
    },
    "id": "LJlIHMwwNKzu",
    "outputId": "f9c244a0-a488-40dd-d837-0959d8cf7adb"
   },
   "outputs": [
    {
     "name": "stdout",
     "output_type": "stream",
     "text": [
      "Collecting implicit\n",
      "  Downloading implicit-0.5.2.tar.gz (71 kB)\n",
      "\u001b[?25l\r",
      "\u001b[K     |████▋                           | 10 kB 14.8 MB/s eta 0:00:01\r",
      "\u001b[K     |█████████▏                      | 20 kB 13.7 MB/s eta 0:00:01\r",
      "\u001b[K     |█████████████▊                  | 30 kB 8.7 MB/s eta 0:00:01\r",
      "\u001b[K     |██████████████████▎             | 40 kB 7.4 MB/s eta 0:00:01\r",
      "\u001b[K     |██████████████████████▉         | 51 kB 5.2 MB/s eta 0:00:01\r",
      "\u001b[K     |███████████████████████████▌    | 61 kB 6.0 MB/s eta 0:00:01\r",
      "\u001b[K     |████████████████████████████████| 71 kB 3.2 MB/s \n",
      "\u001b[?25h  Installing build dependencies ... \u001b[?25l\u001b[?25hdone\n",
      "  Getting requirements to build wheel ... \u001b[?25l\u001b[?25hdone\n",
      "  Installing backend dependencies ... \u001b[?25l\u001b[?25hdone\n",
      "    Preparing wheel metadata ... \u001b[?25l\u001b[?25hdone\n",
      "Requirement already satisfied: scipy>=0.16 in /usr/local/lib/python3.7/dist-packages (from implicit) (1.4.1)\n",
      "Requirement already satisfied: tqdm>=4.27 in /usr/local/lib/python3.7/dist-packages (from implicit) (4.62.3)\n",
      "Requirement already satisfied: numpy in /usr/local/lib/python3.7/dist-packages (from implicit) (1.21.5)\n",
      "Building wheels for collected packages: implicit\n",
      "  Building wheel for implicit (PEP 517) ... \u001b[?25l\u001b[?25hdone\n",
      "  Created wheel for implicit: filename=implicit-0.5.2-cp37-cp37m-linux_x86_64.whl size=22883642 sha256=128e165c3136f7db2c7b379c99628d121cbddbe61662e58472ffcdc8e815bfa9\n",
      "  Stored in directory: /root/.cache/pip/wheels/3e/2c/6c/dddd8ae30a31d65c3287d074cd9c6f5af31b9819ec56607384\n",
      "Successfully built implicit\n",
      "Installing collected packages: implicit\n",
      "Successfully installed implicit-0.5.2\n"
     ]
    }
   ],
   "source": [
    "!pip install implicit"
   ]
  },
  {
   "cell_type": "markdown",
   "metadata": {
    "id": "emKiMfLuuqyy"
   },
   "source": [
    "## Предварительные данные"
   ]
  },
  {
   "cell_type": "code",
   "execution_count": 1,
   "metadata": {
    "id": "gdbpCE-gIHyi"
   },
   "outputs": [],
   "source": [
    "import pandas as pd\n",
    "import numpy as np\n",
    "import matplotlib.pyplot as plt\n",
    "%matplotlib inline\n",
    "\n",
    "# Для работы с матрицами\n",
    "from scipy.sparse import csr_matrix\n",
    "\n",
    "# Матричная факторизация\n",
    "from implicit.als import AlternatingLeastSquares\n",
    "from implicit.nearest_neighbours import bm25_weight, tfidf_weight\n"
   ]
  },
  {
   "cell_type": "code",
   "execution_count": 3,
   "metadata": {
    "id": "2IhaU8JDIHyi"
   },
   "outputs": [],
   "source": [
    "data = pd.read_csv('transaction_data.csv')\n",
    "\n",
    "data.columns = [col.lower() for col in data.columns]\n",
    "data.rename(columns={'household_key': 'user_id',\n",
    "                    'product_id': 'item_id'},\n",
    "           inplace=True)\n",
    "\n",
    "\n",
    "test_size_weeks = 3\n",
    "\n",
    "data_train = data[data['week_no'] < data['week_no'].max() - test_size_weeks]\n",
    "data_test = data[data['week_no'] >= data['week_no'].max() - test_size_weeks]"
   ]
  },
  {
   "cell_type": "code",
   "execution_count": 4,
   "metadata": {
    "colab": {
     "base_uri": "https://localhost:8080/"
    },
    "id": "Vk9zN_1LIC82",
    "outputId": "182f8e86-624d-4c84-9952-ca5551972373"
   },
   "outputs": [
    {
     "data": {
      "text/html": [
       "<div>\n",
       "<style scoped>\n",
       "    .dataframe tbody tr th:only-of-type {\n",
       "        vertical-align: middle;\n",
       "    }\n",
       "\n",
       "    .dataframe tbody tr th {\n",
       "        vertical-align: top;\n",
       "    }\n",
       "\n",
       "    .dataframe thead th {\n",
       "        text-align: right;\n",
       "    }\n",
       "</style>\n",
       "<table border=\"1\" class=\"dataframe\">\n",
       "  <thead>\n",
       "    <tr style=\"text-align: right;\">\n",
       "      <th></th>\n",
       "      <th>user_id</th>\n",
       "      <th>basket_id</th>\n",
       "      <th>day</th>\n",
       "      <th>item_id</th>\n",
       "      <th>quantity</th>\n",
       "      <th>sales_value</th>\n",
       "      <th>store_id</th>\n",
       "      <th>retail_disc</th>\n",
       "      <th>trans_time</th>\n",
       "      <th>week_no</th>\n",
       "      <th>coupon_disc</th>\n",
       "      <th>coupon_match_disc</th>\n",
       "    </tr>\n",
       "  </thead>\n",
       "  <tbody>\n",
       "    <tr>\n",
       "      <th>0</th>\n",
       "      <td>2375</td>\n",
       "      <td>26984851472</td>\n",
       "      <td>1</td>\n",
       "      <td>1004906</td>\n",
       "      <td>1</td>\n",
       "      <td>1.39</td>\n",
       "      <td>364</td>\n",
       "      <td>-0.60</td>\n",
       "      <td>1631</td>\n",
       "      <td>1</td>\n",
       "      <td>0.0</td>\n",
       "      <td>0.0</td>\n",
       "    </tr>\n",
       "    <tr>\n",
       "      <th>1</th>\n",
       "      <td>2375</td>\n",
       "      <td>26984851472</td>\n",
       "      <td>1</td>\n",
       "      <td>1033142</td>\n",
       "      <td>1</td>\n",
       "      <td>0.82</td>\n",
       "      <td>364</td>\n",
       "      <td>0.00</td>\n",
       "      <td>1631</td>\n",
       "      <td>1</td>\n",
       "      <td>0.0</td>\n",
       "      <td>0.0</td>\n",
       "    </tr>\n",
       "    <tr>\n",
       "      <th>2</th>\n",
       "      <td>2375</td>\n",
       "      <td>26984851472</td>\n",
       "      <td>1</td>\n",
       "      <td>1036325</td>\n",
       "      <td>1</td>\n",
       "      <td>0.99</td>\n",
       "      <td>364</td>\n",
       "      <td>-0.30</td>\n",
       "      <td>1631</td>\n",
       "      <td>1</td>\n",
       "      <td>0.0</td>\n",
       "      <td>0.0</td>\n",
       "    </tr>\n",
       "    <tr>\n",
       "      <th>3</th>\n",
       "      <td>2375</td>\n",
       "      <td>26984851472</td>\n",
       "      <td>1</td>\n",
       "      <td>1082185</td>\n",
       "      <td>1</td>\n",
       "      <td>1.21</td>\n",
       "      <td>364</td>\n",
       "      <td>0.00</td>\n",
       "      <td>1631</td>\n",
       "      <td>1</td>\n",
       "      <td>0.0</td>\n",
       "      <td>0.0</td>\n",
       "    </tr>\n",
       "    <tr>\n",
       "      <th>4</th>\n",
       "      <td>2375</td>\n",
       "      <td>26984851472</td>\n",
       "      <td>1</td>\n",
       "      <td>8160430</td>\n",
       "      <td>1</td>\n",
       "      <td>1.50</td>\n",
       "      <td>364</td>\n",
       "      <td>-0.39</td>\n",
       "      <td>1631</td>\n",
       "      <td>1</td>\n",
       "      <td>0.0</td>\n",
       "      <td>0.0</td>\n",
       "    </tr>\n",
       "    <tr>\n",
       "      <th>...</th>\n",
       "      <td>...</td>\n",
       "      <td>...</td>\n",
       "      <td>...</td>\n",
       "      <td>...</td>\n",
       "      <td>...</td>\n",
       "      <td>...</td>\n",
       "      <td>...</td>\n",
       "      <td>...</td>\n",
       "      <td>...</td>\n",
       "      <td>...</td>\n",
       "      <td>...</td>\n",
       "      <td>...</td>\n",
       "    </tr>\n",
       "    <tr>\n",
       "      <th>2595727</th>\n",
       "      <td>1598</td>\n",
       "      <td>42305362535</td>\n",
       "      <td>711</td>\n",
       "      <td>92130</td>\n",
       "      <td>1</td>\n",
       "      <td>0.99</td>\n",
       "      <td>3228</td>\n",
       "      <td>0.00</td>\n",
       "      <td>1520</td>\n",
       "      <td>102</td>\n",
       "      <td>0.0</td>\n",
       "      <td>0.0</td>\n",
       "    </tr>\n",
       "    <tr>\n",
       "      <th>2595728</th>\n",
       "      <td>1598</td>\n",
       "      <td>42305362535</td>\n",
       "      <td>711</td>\n",
       "      <td>114102</td>\n",
       "      <td>1</td>\n",
       "      <td>8.89</td>\n",
       "      <td>3228</td>\n",
       "      <td>0.00</td>\n",
       "      <td>1520</td>\n",
       "      <td>102</td>\n",
       "      <td>0.0</td>\n",
       "      <td>0.0</td>\n",
       "    </tr>\n",
       "    <tr>\n",
       "      <th>2595729</th>\n",
       "      <td>1598</td>\n",
       "      <td>42305362535</td>\n",
       "      <td>711</td>\n",
       "      <td>133449</td>\n",
       "      <td>1</td>\n",
       "      <td>6.99</td>\n",
       "      <td>3228</td>\n",
       "      <td>0.00</td>\n",
       "      <td>1520</td>\n",
       "      <td>102</td>\n",
       "      <td>0.0</td>\n",
       "      <td>0.0</td>\n",
       "    </tr>\n",
       "    <tr>\n",
       "      <th>2595730</th>\n",
       "      <td>1598</td>\n",
       "      <td>42305362535</td>\n",
       "      <td>711</td>\n",
       "      <td>6923644</td>\n",
       "      <td>1</td>\n",
       "      <td>4.50</td>\n",
       "      <td>3228</td>\n",
       "      <td>-0.49</td>\n",
       "      <td>1520</td>\n",
       "      <td>102</td>\n",
       "      <td>0.0</td>\n",
       "      <td>0.0</td>\n",
       "    </tr>\n",
       "    <tr>\n",
       "      <th>2595731</th>\n",
       "      <td>1598</td>\n",
       "      <td>42305362535</td>\n",
       "      <td>711</td>\n",
       "      <td>14055192</td>\n",
       "      <td>1</td>\n",
       "      <td>6.99</td>\n",
       "      <td>3228</td>\n",
       "      <td>0.00</td>\n",
       "      <td>1520</td>\n",
       "      <td>102</td>\n",
       "      <td>0.0</td>\n",
       "      <td>0.0</td>\n",
       "    </tr>\n",
       "  </tbody>\n",
       "</table>\n",
       "<p>2595732 rows × 12 columns</p>\n",
       "</div>"
      ],
      "text/plain": [
       "         user_id    basket_id  day   item_id  quantity  sales_value  store_id  \\\n",
       "0           2375  26984851472    1   1004906         1         1.39       364   \n",
       "1           2375  26984851472    1   1033142         1         0.82       364   \n",
       "2           2375  26984851472    1   1036325         1         0.99       364   \n",
       "3           2375  26984851472    1   1082185         1         1.21       364   \n",
       "4           2375  26984851472    1   8160430         1         1.50       364   \n",
       "...          ...          ...  ...       ...       ...          ...       ...   \n",
       "2595727     1598  42305362535  711     92130         1         0.99      3228   \n",
       "2595728     1598  42305362535  711    114102         1         8.89      3228   \n",
       "2595729     1598  42305362535  711    133449         1         6.99      3228   \n",
       "2595730     1598  42305362535  711   6923644         1         4.50      3228   \n",
       "2595731     1598  42305362535  711  14055192         1         6.99      3228   \n",
       "\n",
       "         retail_disc  trans_time  week_no  coupon_disc  coupon_match_disc  \n",
       "0              -0.60        1631        1          0.0                0.0  \n",
       "1               0.00        1631        1          0.0                0.0  \n",
       "2              -0.30        1631        1          0.0                0.0  \n",
       "3               0.00        1631        1          0.0                0.0  \n",
       "4              -0.39        1631        1          0.0                0.0  \n",
       "...              ...         ...      ...          ...                ...  \n",
       "2595727         0.00        1520      102          0.0                0.0  \n",
       "2595728         0.00        1520      102          0.0                0.0  \n",
       "2595729         0.00        1520      102          0.0                0.0  \n",
       "2595730        -0.49        1520      102          0.0                0.0  \n",
       "2595731         0.00        1520      102          0.0                0.0  \n",
       "\n",
       "[2595732 rows x 12 columns]"
      ]
     },
     "execution_count": 4,
     "metadata": {},
     "output_type": "execute_result"
    }
   ],
   "source": [
    "data"
   ]
  },
  {
   "cell_type": "code",
   "execution_count": 6,
   "metadata": {
    "colab": {
     "base_uri": "https://localhost:8080/"
    },
    "id": "2Csvjg-jIHyk",
    "outputId": "455f7187-dc7e-4e04-bdda-fb7d8c8e32a1"
   },
   "outputs": [
    {
     "data": {
      "text/html": [
       "<div>\n",
       "<style scoped>\n",
       "    .dataframe tbody tr th:only-of-type {\n",
       "        vertical-align: middle;\n",
       "    }\n",
       "\n",
       "    .dataframe tbody tr th {\n",
       "        vertical-align: top;\n",
       "    }\n",
       "\n",
       "    .dataframe thead th {\n",
       "        text-align: right;\n",
       "    }\n",
       "</style>\n",
       "<table border=\"1\" class=\"dataframe\">\n",
       "  <thead>\n",
       "    <tr style=\"text-align: right;\">\n",
       "      <th></th>\n",
       "      <th>item_id</th>\n",
       "      <th>manufacturer</th>\n",
       "      <th>department</th>\n",
       "      <th>brand</th>\n",
       "      <th>commodity_desc</th>\n",
       "      <th>sub_commodity_desc</th>\n",
       "      <th>curr_size_of_product</th>\n",
       "    </tr>\n",
       "  </thead>\n",
       "  <tbody>\n",
       "    <tr>\n",
       "      <th>0</th>\n",
       "      <td>25671</td>\n",
       "      <td>2</td>\n",
       "      <td>GROCERY</td>\n",
       "      <td>National</td>\n",
       "      <td>FRZN ICE</td>\n",
       "      <td>ICE - CRUSHED/CUBED</td>\n",
       "      <td>22 LB</td>\n",
       "    </tr>\n",
       "    <tr>\n",
       "      <th>1</th>\n",
       "      <td>26081</td>\n",
       "      <td>2</td>\n",
       "      <td>MISC. TRANS.</td>\n",
       "      <td>National</td>\n",
       "      <td>NO COMMODITY DESCRIPTION</td>\n",
       "      <td>NO SUBCOMMODITY DESCRIPTION</td>\n",
       "      <td></td>\n",
       "    </tr>\n",
       "    <tr>\n",
       "      <th>2</th>\n",
       "      <td>26093</td>\n",
       "      <td>69</td>\n",
       "      <td>PASTRY</td>\n",
       "      <td>Private</td>\n",
       "      <td>BREAD</td>\n",
       "      <td>BREAD:ITALIAN/FRENCH</td>\n",
       "      <td></td>\n",
       "    </tr>\n",
       "    <tr>\n",
       "      <th>3</th>\n",
       "      <td>26190</td>\n",
       "      <td>69</td>\n",
       "      <td>GROCERY</td>\n",
       "      <td>Private</td>\n",
       "      <td>FRUIT - SHELF STABLE</td>\n",
       "      <td>APPLE SAUCE</td>\n",
       "      <td>50 OZ</td>\n",
       "    </tr>\n",
       "    <tr>\n",
       "      <th>4</th>\n",
       "      <td>26355</td>\n",
       "      <td>69</td>\n",
       "      <td>GROCERY</td>\n",
       "      <td>Private</td>\n",
       "      <td>COOKIES/CONES</td>\n",
       "      <td>SPECIALTY COOKIES</td>\n",
       "      <td>14 OZ</td>\n",
       "    </tr>\n",
       "    <tr>\n",
       "      <th>...</th>\n",
       "      <td>...</td>\n",
       "      <td>...</td>\n",
       "      <td>...</td>\n",
       "      <td>...</td>\n",
       "      <td>...</td>\n",
       "      <td>...</td>\n",
       "      <td>...</td>\n",
       "    </tr>\n",
       "    <tr>\n",
       "      <th>92348</th>\n",
       "      <td>18293142</td>\n",
       "      <td>6384</td>\n",
       "      <td>DRUG GM</td>\n",
       "      <td>National</td>\n",
       "      <td>BOOKSTORE</td>\n",
       "      <td>PAPERBACK BOOKS</td>\n",
       "      <td></td>\n",
       "    </tr>\n",
       "    <tr>\n",
       "      <th>92349</th>\n",
       "      <td>18293439</td>\n",
       "      <td>6393</td>\n",
       "      <td>DRUG GM</td>\n",
       "      <td>National</td>\n",
       "      <td>BOOKSTORE</td>\n",
       "      <td>CHILDRENS LOW END</td>\n",
       "      <td></td>\n",
       "    </tr>\n",
       "    <tr>\n",
       "      <th>92350</th>\n",
       "      <td>18293696</td>\n",
       "      <td>6406</td>\n",
       "      <td>DRUG GM</td>\n",
       "      <td>National</td>\n",
       "      <td>BOOKSTORE</td>\n",
       "      <td>PAPERBACK BEST SELLER</td>\n",
       "      <td></td>\n",
       "    </tr>\n",
       "    <tr>\n",
       "      <th>92351</th>\n",
       "      <td>18294080</td>\n",
       "      <td>6442</td>\n",
       "      <td>DRUG GM</td>\n",
       "      <td>National</td>\n",
       "      <td>BOOKSTORE</td>\n",
       "      <td>PAPERBACK BOOKS</td>\n",
       "      <td></td>\n",
       "    </tr>\n",
       "    <tr>\n",
       "      <th>92352</th>\n",
       "      <td>18316298</td>\n",
       "      <td>764</td>\n",
       "      <td>GROCERY</td>\n",
       "      <td>National</td>\n",
       "      <td>PAPER TOWELS</td>\n",
       "      <td>PAPER TOWELS &amp; HOLDERS</td>\n",
       "      <td></td>\n",
       "    </tr>\n",
       "  </tbody>\n",
       "</table>\n",
       "<p>92353 rows × 7 columns</p>\n",
       "</div>"
      ],
      "text/plain": [
       "        item_id  manufacturer    department     brand  \\\n",
       "0         25671             2       GROCERY  National   \n",
       "1         26081             2  MISC. TRANS.  National   \n",
       "2         26093            69        PASTRY   Private   \n",
       "3         26190            69       GROCERY   Private   \n",
       "4         26355            69       GROCERY   Private   \n",
       "...         ...           ...           ...       ...   \n",
       "92348  18293142          6384       DRUG GM  National   \n",
       "92349  18293439          6393       DRUG GM  National   \n",
       "92350  18293696          6406       DRUG GM  National   \n",
       "92351  18294080          6442       DRUG GM  National   \n",
       "92352  18316298           764       GROCERY  National   \n",
       "\n",
       "                 commodity_desc           sub_commodity_desc  \\\n",
       "0                      FRZN ICE          ICE - CRUSHED/CUBED   \n",
       "1      NO COMMODITY DESCRIPTION  NO SUBCOMMODITY DESCRIPTION   \n",
       "2                         BREAD         BREAD:ITALIAN/FRENCH   \n",
       "3          FRUIT - SHELF STABLE                  APPLE SAUCE   \n",
       "4                 COOKIES/CONES            SPECIALTY COOKIES   \n",
       "...                         ...                          ...   \n",
       "92348                 BOOKSTORE              PAPERBACK BOOKS   \n",
       "92349                 BOOKSTORE            CHILDRENS LOW END   \n",
       "92350                 BOOKSTORE        PAPERBACK BEST SELLER   \n",
       "92351                 BOOKSTORE              PAPERBACK BOOKS   \n",
       "92352              PAPER TOWELS       PAPER TOWELS & HOLDERS   \n",
       "\n",
       "      curr_size_of_product  \n",
       "0                    22 LB  \n",
       "1                           \n",
       "2                           \n",
       "3                    50 OZ  \n",
       "4                    14 OZ  \n",
       "...                    ...  \n",
       "92348                       \n",
       "92349                       \n",
       "92350                       \n",
       "92351                       \n",
       "92352                       \n",
       "\n",
       "[92353 rows x 7 columns]"
      ]
     },
     "execution_count": 6,
     "metadata": {},
     "output_type": "execute_result"
    }
   ],
   "source": [
    "item_features = pd.read_csv('product.csv')\n",
    "item_features.columns = [col.lower() for col in item_features.columns]\n",
    "item_features.rename(columns={'product_id': 'item_id'}, inplace=True)\n",
    "\n",
    "item_features"
   ]
  },
  {
   "cell_type": "code",
   "execution_count": 7,
   "metadata": {
    "colab": {
     "base_uri": "https://localhost:8080/"
    },
    "id": "ZQna6TBQIHyk",
    "outputId": "5e51b918-bb62-45fc-f0c1-1cc34f0fd7bc"
   },
   "outputs": [
    {
     "data": {
      "text/plain": [
       "array(['GROCERY', 'MISC. TRANS.', 'PASTRY', 'DRUG GM', 'MEAT-PCKGD',\n",
       "       'SEAFOOD-PCKGD', 'PRODUCE', 'NUTRITION', 'DELI', 'COSMETICS',\n",
       "       'MEAT', 'FLORAL', 'TRAVEL & LEISUR', 'SEAFOOD', 'MISC SALES TRAN',\n",
       "       'SALAD BAR', 'KIOSK-GAS', 'ELECT &PLUMBING', 'GRO BAKERY',\n",
       "       'GM MERCH EXP', 'FROZEN GROCERY', 'COUP/STR & MFG', 'SPIRITS',\n",
       "       'GARDEN CENTER', 'TOYS', 'CHARITABLE CONT', 'RESTAURANT', 'RX',\n",
       "       'PROD-WHS SALES', 'MEAT-WHSE', 'DAIRY DELI', 'CHEF SHOPPE', 'HBC',\n",
       "       'DELI/SNACK BAR', 'PORK', 'AUTOMOTIVE', 'VIDEO RENTAL', ' ',\n",
       "       'CNTRL/STORE SUP', 'HOUSEWARES', 'POSTAL CENTER', 'PHOTO', 'VIDEO',\n",
       "       'PHARMACY SUPPLY'], dtype=object)"
      ]
     },
     "execution_count": 7,
     "metadata": {},
     "output_type": "execute_result"
    }
   ],
   "source": [
    "item_features.department.unique()"
   ]
  },
  {
   "cell_type": "code",
   "execution_count": 8,
   "metadata": {
    "colab": {
     "base_uri": "https://localhost:8080/"
    },
    "id": "vBJcGBpTIHyl",
    "outputId": "d8486252-09b9-45d5-b7d0-f59e79fa5011"
   },
   "outputs": [
    {
     "data": {
      "text/html": [
       "<div>\n",
       "<style scoped>\n",
       "    .dataframe tbody tr th:only-of-type {\n",
       "        vertical-align: middle;\n",
       "    }\n",
       "\n",
       "    .dataframe tbody tr th {\n",
       "        vertical-align: top;\n",
       "    }\n",
       "\n",
       "    .dataframe thead th {\n",
       "        text-align: right;\n",
       "    }\n",
       "</style>\n",
       "<table border=\"1\" class=\"dataframe\">\n",
       "  <thead>\n",
       "    <tr style=\"text-align: right;\">\n",
       "      <th></th>\n",
       "      <th>user_id</th>\n",
       "      <th>actual</th>\n",
       "    </tr>\n",
       "  </thead>\n",
       "  <tbody>\n",
       "    <tr>\n",
       "      <th>0</th>\n",
       "      <td>1</td>\n",
       "      <td>[879517, 934369, 1115576, 1124029, 5572301, 65...</td>\n",
       "    </tr>\n",
       "    <tr>\n",
       "      <th>1</th>\n",
       "      <td>3</td>\n",
       "      <td>[823704, 834117, 840244, 913785, 917816, 93870...</td>\n",
       "    </tr>\n",
       "  </tbody>\n",
       "</table>\n",
       "</div>"
      ],
      "text/plain": [
       "   user_id                                             actual\n",
       "0        1  [879517, 934369, 1115576, 1124029, 5572301, 65...\n",
       "1        3  [823704, 834117, 840244, 913785, 917816, 93870..."
      ]
     },
     "execution_count": 8,
     "metadata": {},
     "output_type": "execute_result"
    }
   ],
   "source": [
    "result = data_test.groupby('user_id')['item_id'].unique().reset_index()\n",
    "result.columns=['user_id', 'actual']\n",
    "result.head(2)"
   ]
  },
  {
   "cell_type": "code",
   "execution_count": 9,
   "metadata": {},
   "outputs": [],
   "source": [
    "popularity = data_train.groupby('item_id')['quantity'].sum().reset_index()\n",
    "popularity.rename(columns={'quantity': 'n_sold'}, inplace=True)\n",
    "\n",
    "top_5000 = popularity.sort_values('n_sold', ascending=False).head(5000).item_id.tolist()"
   ]
  },
  {
   "cell_type": "code",
   "execution_count": 10,
   "metadata": {
    "scrolled": true
   },
   "outputs": [
    {
     "name": "stderr",
     "output_type": "stream",
     "text": [
      "C:\\Users\\edive\\anaconda3\\lib\\site-packages\\pandas\\core\\indexing.py:965: SettingWithCopyWarning: \n",
      "A value is trying to be set on a copy of a slice from a DataFrame.\n",
      "Try using .loc[row_indexer,col_indexer] = value instead\n",
      "\n",
      "See the caveats in the documentation: https://pandas.pydata.org/pandas-docs/stable/user_guide/indexing.html#returning-a-view-versus-a-copy\n",
      "  self.obj[item] = s\n"
     ]
    },
    {
     "data": {
      "text/html": [
       "<div>\n",
       "<style scoped>\n",
       "    .dataframe tbody tr th:only-of-type {\n",
       "        vertical-align: middle;\n",
       "    }\n",
       "\n",
       "    .dataframe tbody tr th {\n",
       "        vertical-align: top;\n",
       "    }\n",
       "\n",
       "    .dataframe thead th {\n",
       "        text-align: right;\n",
       "    }\n",
       "</style>\n",
       "<table border=\"1\" class=\"dataframe\">\n",
       "  <thead>\n",
       "    <tr style=\"text-align: right;\">\n",
       "      <th>item_id</th>\n",
       "      <th>202291</th>\n",
       "      <th>397896</th>\n",
       "      <th>420647</th>\n",
       "      <th>480014</th>\n",
       "      <th>545926</th>\n",
       "      <th>707683</th>\n",
       "      <th>731106</th>\n",
       "      <th>818980</th>\n",
       "      <th>819063</th>\n",
       "      <th>819227</th>\n",
       "      <th>...</th>\n",
       "      <th>15926885</th>\n",
       "      <th>15926886</th>\n",
       "      <th>15926887</th>\n",
       "      <th>15926927</th>\n",
       "      <th>15927033</th>\n",
       "      <th>15927403</th>\n",
       "      <th>15927661</th>\n",
       "      <th>15927850</th>\n",
       "      <th>16809471</th>\n",
       "      <th>17105257</th>\n",
       "    </tr>\n",
       "    <tr>\n",
       "      <th>user_id</th>\n",
       "      <th></th>\n",
       "      <th></th>\n",
       "      <th></th>\n",
       "      <th></th>\n",
       "      <th></th>\n",
       "      <th></th>\n",
       "      <th></th>\n",
       "      <th></th>\n",
       "      <th></th>\n",
       "      <th></th>\n",
       "      <th></th>\n",
       "      <th></th>\n",
       "      <th></th>\n",
       "      <th></th>\n",
       "      <th></th>\n",
       "      <th></th>\n",
       "      <th></th>\n",
       "      <th></th>\n",
       "      <th></th>\n",
       "      <th></th>\n",
       "      <th></th>\n",
       "    </tr>\n",
       "  </thead>\n",
       "  <tbody>\n",
       "    <tr>\n",
       "      <th>1</th>\n",
       "      <td>0.0</td>\n",
       "      <td>0.0</td>\n",
       "      <td>0.0</td>\n",
       "      <td>0.0</td>\n",
       "      <td>0.0</td>\n",
       "      <td>0.0</td>\n",
       "      <td>0.0</td>\n",
       "      <td>0.0</td>\n",
       "      <td>0.0</td>\n",
       "      <td>0.0</td>\n",
       "      <td>...</td>\n",
       "      <td>0.0</td>\n",
       "      <td>0.0</td>\n",
       "      <td>0.0</td>\n",
       "      <td>2.0</td>\n",
       "      <td>0.0</td>\n",
       "      <td>0.0</td>\n",
       "      <td>0.0</td>\n",
       "      <td>0.0</td>\n",
       "      <td>0.0</td>\n",
       "      <td>0.0</td>\n",
       "    </tr>\n",
       "    <tr>\n",
       "      <th>2</th>\n",
       "      <td>0.0</td>\n",
       "      <td>0.0</td>\n",
       "      <td>0.0</td>\n",
       "      <td>0.0</td>\n",
       "      <td>0.0</td>\n",
       "      <td>0.0</td>\n",
       "      <td>0.0</td>\n",
       "      <td>0.0</td>\n",
       "      <td>0.0</td>\n",
       "      <td>0.0</td>\n",
       "      <td>...</td>\n",
       "      <td>0.0</td>\n",
       "      <td>0.0</td>\n",
       "      <td>0.0</td>\n",
       "      <td>1.0</td>\n",
       "      <td>0.0</td>\n",
       "      <td>0.0</td>\n",
       "      <td>0.0</td>\n",
       "      <td>0.0</td>\n",
       "      <td>0.0</td>\n",
       "      <td>0.0</td>\n",
       "    </tr>\n",
       "    <tr>\n",
       "      <th>3</th>\n",
       "      <td>0.0</td>\n",
       "      <td>0.0</td>\n",
       "      <td>0.0</td>\n",
       "      <td>0.0</td>\n",
       "      <td>0.0</td>\n",
       "      <td>0.0</td>\n",
       "      <td>0.0</td>\n",
       "      <td>0.0</td>\n",
       "      <td>0.0</td>\n",
       "      <td>0.0</td>\n",
       "      <td>...</td>\n",
       "      <td>0.0</td>\n",
       "      <td>0.0</td>\n",
       "      <td>0.0</td>\n",
       "      <td>0.0</td>\n",
       "      <td>0.0</td>\n",
       "      <td>0.0</td>\n",
       "      <td>0.0</td>\n",
       "      <td>0.0</td>\n",
       "      <td>0.0</td>\n",
       "      <td>0.0</td>\n",
       "    </tr>\n",
       "  </tbody>\n",
       "</table>\n",
       "<p>3 rows × 5001 columns</p>\n",
       "</div>"
      ],
      "text/plain": [
       "item_id  202291    397896    420647    480014    545926    707683    731106    \\\n",
       "user_id                                                                         \n",
       "1             0.0       0.0       0.0       0.0       0.0       0.0       0.0   \n",
       "2             0.0       0.0       0.0       0.0       0.0       0.0       0.0   \n",
       "3             0.0       0.0       0.0       0.0       0.0       0.0       0.0   \n",
       "\n",
       "item_id  818980    819063    819227    ...  15926885  15926886  15926887  \\\n",
       "user_id                                ...                                 \n",
       "1             0.0       0.0       0.0  ...       0.0       0.0       0.0   \n",
       "2             0.0       0.0       0.0  ...       0.0       0.0       0.0   \n",
       "3             0.0       0.0       0.0  ...       0.0       0.0       0.0   \n",
       "\n",
       "item_id  15926927  15927033  15927403  15927661  15927850  16809471  17105257  \n",
       "user_id                                                                        \n",
       "1             2.0       0.0       0.0       0.0       0.0       0.0       0.0  \n",
       "2             1.0       0.0       0.0       0.0       0.0       0.0       0.0  \n",
       "3             0.0       0.0       0.0       0.0       0.0       0.0       0.0  \n",
       "\n",
       "[3 rows x 5001 columns]"
      ]
     },
     "execution_count": 10,
     "metadata": {},
     "output_type": "execute_result"
    }
   ],
   "source": [
    "# Заведем фиктивный item_id (если юзер покупал товары из топ-5000, то он \"купил\" такой товар)\n",
    "data_train.loc[~data_train['item_id'].isin(top_5000), 'item_id'] = 999999\n",
    "\n",
    "user_item_matrix = pd.pivot_table(data_train, \n",
    "                                  index='user_id', columns='item_id', \n",
    "                                  values='quantity', # Можно пробоват ьдругие варианты\n",
    "                                  aggfunc='count', \n",
    "                                  fill_value=0\n",
    "                                 )\n",
    "\n",
    "user_item_matrix = user_item_matrix.astype(float) # необходимый тип матрицы для implicit\n",
    "\n",
    "# переведем в формат saprse matrix\n",
    "sparse_user_item = csr_matrix(user_item_matrix).tocsr()\n",
    "\n",
    "user_item_matrix.head(3)"
   ]
  },
  {
   "cell_type": "code",
   "execution_count": 11,
   "metadata": {},
   "outputs": [],
   "source": [
    "userids = user_item_matrix.index.values\n",
    "itemids = user_item_matrix.columns.values\n",
    "\n",
    "matrix_userids = np.arange(len(userids))\n",
    "matrix_itemids = np.arange(len(itemids))\n",
    "\n",
    "id_to_itemid = dict(zip(matrix_itemids, itemids))\n",
    "id_to_userid = dict(zip(matrix_userids, userids))\n",
    "\n",
    "itemid_to_id = dict(zip(itemids, matrix_itemids))\n",
    "userid_to_id = dict(zip(userids, matrix_userids))"
   ]
  },
  {
   "cell_type": "code",
   "execution_count": 15,
   "metadata": {},
   "outputs": [
    {
     "data": {
      "application/vnd.jupyter.widget-view+json": {
       "model_id": "6cbd4ee01b4743f286b9a053832e95a9",
       "version_major": 2,
       "version_minor": 0
      },
      "text/plain": [
       "HBox(children=(FloatProgress(value=0.0, max=15.0), HTML(value='')))"
      ]
     },
     "metadata": {},
     "output_type": "display_data"
    },
    {
     "name": "stdout",
     "output_type": "stream",
     "text": [
      "\n",
      "Wall time: 3.03 s\n"
     ]
    }
   ],
   "source": [
    "%%time\n",
    "\n",
    "model = AlternatingLeastSquares(factors=100, \n",
    "                                regularization=0.001,\n",
    "                                iterations=15, \n",
    "                                calculate_training_loss=True, \n",
    "                                num_threads=-1)\n",
    "\n",
    "model.fit(csr_matrix(user_item_matrix).T.tocsr(),  # На вход item-user matrix\n",
    "          show_progress=True)\n",
    "\n",
    "recs = model.recommend(userid=userid_to_id[2],  # userid - id от 0 до N\n",
    "                        user_items=csr_matrix(user_item_matrix).tocsr(),   # на вход user-item matrix\n",
    "                        N=5, # кол-во рекомендаций \n",
    "                        filter_already_liked_items=False, \n",
    "                        filter_items=None, \n",
    "                        recalculate_user=True)"
   ]
  },
  {
   "cell_type": "code",
   "execution_count": 16,
   "metadata": {},
   "outputs": [
    {
     "data": {
      "text/plain": [
       "[1106523, 1133018, 999999, 5569230, 1082185]"
      ]
     },
     "execution_count": 16,
     "metadata": {},
     "output_type": "execute_result"
    }
   ],
   "source": [
    "[id_to_itemid[rec[0]] for rec in recs]"
   ]
  },
  {
   "cell_type": "code",
   "execution_count": 21,
   "metadata": {},
   "outputs": [],
   "source": [
    "def get_recommendations(user, model, N=5):\n",
    "    res = [id_to_itemid[rec[0]] for rec in \n",
    "                    model.recommend(userid=userid_to_id[user], \n",
    "                                    user_items=sparse_user_item,   # на вход user-item matrix\n",
    "                                    N=N, \n",
    "                                    filter_already_liked_items=False, \n",
    "                                    filter_items=None, \n",
    "                                    recalculate_user=True)]\n",
    "    return res"
   ]
  },
  {
   "cell_type": "code",
   "execution_count": 18,
   "metadata": {},
   "outputs": [],
   "source": [
    "def precision_at_k(recommended_list, bought_list, k=5):\n",
    "    \n",
    "    \n",
    "    bought_list = bought_list\n",
    "    recommended_list = recommended_list[:k]    \n",
    "    flags = np.isin(recommended_list, bought_list)    \n",
    "    precision = flags.sum() / len(recommended_list)\n",
    "    \n",
    "    \n",
    "    return precision"
   ]
  },
  {
   "cell_type": "code",
   "execution_count": 22,
   "metadata": {},
   "outputs": [
    {
     "name": "stdout",
     "output_type": "stream",
     "text": [
      "Wall time: 34.6 s\n"
     ]
    },
    {
     "data": {
      "text/plain": [
       "0.14927172275238385"
      ]
     },
     "execution_count": 22,
     "metadata": {},
     "output_type": "execute_result"
    }
   ],
   "source": [
    "%%time\n",
    "    \n",
    "result['als'] = result['user_id'].apply(lambda x: get_recommendations(x, model=model, N=5))\n",
    "result.apply(lambda row: precision_at_k(row['als'], row['actual']), axis=1).mean()"
   ]
  },
  {
   "cell_type": "code",
   "execution_count": 23,
   "metadata": {},
   "outputs": [
    {
     "data": {
      "text/html": [
       "<div>\n",
       "<style scoped>\n",
       "    .dataframe tbody tr th:only-of-type {\n",
       "        vertical-align: middle;\n",
       "    }\n",
       "\n",
       "    .dataframe tbody tr th {\n",
       "        vertical-align: top;\n",
       "    }\n",
       "\n",
       "    .dataframe thead th {\n",
       "        text-align: right;\n",
       "    }\n",
       "</style>\n",
       "<table border=\"1\" class=\"dataframe\">\n",
       "  <thead>\n",
       "    <tr style=\"text-align: right;\">\n",
       "      <th></th>\n",
       "      <th>user_id</th>\n",
       "      <th>actual</th>\n",
       "      <th>als</th>\n",
       "    </tr>\n",
       "  </thead>\n",
       "  <tbody>\n",
       "    <tr>\n",
       "      <th>0</th>\n",
       "      <td>1</td>\n",
       "      <td>[879517, 934369, 1115576, 1124029, 5572301, 65...</td>\n",
       "      <td>[5569374, 901062, 832678, 1033142, 1005186]</td>\n",
       "    </tr>\n",
       "    <tr>\n",
       "      <th>1</th>\n",
       "      <td>3</td>\n",
       "      <td>[823704, 834117, 840244, 913785, 917816, 93870...</td>\n",
       "      <td>[1133018, 1106523, 914190, 5569327, 910032]</td>\n",
       "    </tr>\n",
       "  </tbody>\n",
       "</table>\n",
       "</div>"
      ],
      "text/plain": [
       "   user_id                                             actual  \\\n",
       "0        1  [879517, 934369, 1115576, 1124029, 5572301, 65...   \n",
       "1        3  [823704, 834117, 840244, 913785, 917816, 93870...   \n",
       "\n",
       "                                           als  \n",
       "0  [5569374, 901062, 832678, 1033142, 1005186]  \n",
       "1  [1133018, 1106523, 914190, 5569327, 910032]  "
      ]
     },
     "execution_count": 23,
     "metadata": {},
     "output_type": "execute_result"
    }
   ],
   "source": [
    "result.head(2)"
   ]
  },
  {
   "cell_type": "code",
   "execution_count": 24,
   "metadata": {},
   "outputs": [
    {
     "data": {
      "text/plain": [
       "(5001, 100)"
      ]
     },
     "execution_count": 24,
     "metadata": {},
     "output_type": "execute_result"
    }
   ],
   "source": [
    "model.item_factors.shape"
   ]
  },
  {
   "cell_type": "code",
   "execution_count": 25,
   "metadata": {},
   "outputs": [
    {
     "data": {
      "text/plain": [
       "(2500, 100)"
      ]
     },
     "execution_count": 25,
     "metadata": {},
     "output_type": "execute_result"
    }
   ],
   "source": [
    "model.user_factors.shape"
   ]
  },
  {
   "cell_type": "code",
   "execution_count": 26,
   "metadata": {},
   "outputs": [
    {
     "data": {
      "text/plain": [
       "(2500, 5001)"
      ]
     },
     "execution_count": 26,
     "metadata": {},
     "output_type": "execute_result"
    }
   ],
   "source": [
    "fast_recs = model.user_factors @ model.item_factors.T\n",
    "fast_recs.shape"
   ]
  },
  {
   "cell_type": "code",
   "execution_count": 27,
   "metadata": {},
   "outputs": [
    {
     "data": {
      "text/plain": [
       "array([[-2.79667042e-03,  1.44811809e-01,  1.38888229e-02,\n",
       "        -4.28365543e-02,  6.49024732e-04,  4.21032310e-03,\n",
       "         1.07152192e-02,  1.35015443e-01, -1.75051838e-02,\n",
       "        -3.87488678e-02],\n",
       "       [-3.48191289e-03,  3.33556533e-02, -2.76512932e-02,\n",
       "        -1.09890755e-03, -7.59436702e-03, -1.08501576e-02,\n",
       "        -6.18903153e-03,  3.60683091e-02,  7.68773258e-02,\n",
       "        -1.19234789e-02],\n",
       "       [-1.86615549e-02, -2.70767342e-02, -5.44994883e-03,\n",
       "        -2.87503861e-02, -1.30125266e-02, -1.14255752e-02,\n",
       "        -2.36011781e-02,  1.06212445e-01,  2.00226575e-01,\n",
       "         4.25330438e-02],\n",
       "       [ 1.47151379e-02,  6.06656894e-02,  3.66130136e-02,\n",
       "         7.14334548e-02,  1.03252511e-02,  1.56613216e-02,\n",
       "         3.31288506e-03,  1.10480651e-01,  3.04394942e-02,\n",
       "        -9.15073138e-03],\n",
       "       [-3.10154865e-03,  1.22420732e-02, -2.75324052e-03,\n",
       "         3.36451605e-02,  2.49803532e-03,  1.95615529e-03,\n",
       "        -3.91499931e-03,  3.73681933e-02,  4.31690849e-02,\n",
       "         2.99855061e-02],\n",
       "       [-1.12376176e-03,  2.46921387e-02,  2.79692933e-02,\n",
       "        -3.57430689e-02, -1.16807409e-02, -2.69215344e-03,\n",
       "         2.28880742e-03, -3.97289023e-02,  4.07836735e-02,\n",
       "         9.42803621e-02],\n",
       "       [ 1.22192502e-03, -1.06703341e-02, -5.61176091e-02,\n",
       "         4.32944484e-03, -1.42109022e-03, -1.24970209e-02,\n",
       "         1.00723701e-02,  7.72813410e-02,  2.56557018e-01,\n",
       "         4.08765115e-02],\n",
       "       [ 3.65861692e-04, -1.12667028e-03, -1.81602519e-02,\n",
       "         2.14096699e-02,  3.22561245e-05, -4.97699995e-03,\n",
       "         2.94041708e-02, -9.31456536e-02, -1.68249942e-02,\n",
       "         1.31594807e-01],\n",
       "       [ 3.54611687e-03,  2.51858030e-02, -1.54152419e-02,\n",
       "         2.10051276e-02,  1.41896727e-03, -1.57376565e-03,\n",
       "         1.89758465e-03,  4.59781326e-02,  4.70535308e-02,\n",
       "        -6.09115791e-03],\n",
       "       [-3.11087212e-03,  2.99376734e-02,  1.68039743e-02,\n",
       "         3.12412791e-02,  2.25734478e-03,  7.30797555e-03,\n",
       "         6.26009423e-04,  4.86728409e-03, -3.31758335e-02,\n",
       "        -6.59417175e-03]], dtype=float32)"
      ]
     },
     "execution_count": 27,
     "metadata": {},
     "output_type": "execute_result"
    }
   ],
   "source": [
    "fast_recs[:10, :10]"
   ]
  },
  {
   "cell_type": "markdown",
   "metadata": {
    "id": "IgTrX7hAIHy2"
   },
   "source": [
    "## Production"
   ]
  },
  {
   "cell_type": "markdown",
   "metadata": {
    "id": "_BlVIuo8IHy2"
   },
   "source": [
    "Начиная с этого вебинара, мы будем строить *базовое решение* для системы рекомендаций топ-N товаров. В финальном проекте вам нужно будет его существенно улучшить.  \n",
    "  \n",
    "**Ситуация**: Вы работает data scientist в крупном продуктовом российском ритейлере. Ваш конкурент сделал рекомендательную систему, и его продажи выросли. Ваш менеджмент тоже хочет увеличить продажи   \n",
    "**Задача со слов менеджера**: Сделайте рекомендательную систему топ-10 товаров для рассылки по e-mail"
   ]
  },
  {
   "cell_type": "markdown",
   "metadata": {
    "id": "0O0XT3Y5IHy2"
   },
   "source": [
    "**Ожидание:**\n",
    "- Отправляем e-mail с топ-10 товарами, отсортированными по вероятности\n",
    "\n",
    "**Реальность:**\n",
    "- Чего хочет менеджер от рекомендательной системы? (рост показателя X на Y% за Z недель)\n",
    "- По-хорошему надо бы предварительно посчитать потенциальный эффект от рекоммендательной системы (Оценки эффектов у менеджера и у вас могут сильно не совпадать: как правило, вы знаете про данные больше)\n",
    "- А у нас вообще есть e-mail-ы пользователей? Для скольки %? Не устарели ли они?\n",
    "- Будем ли использовать СМС и push-уведомления в приложении? Может, будем печатать рекомендации на чеке после оплаты на кассе?\n",
    "- Как будет выглядеть e-mail? (решаем задачу топ-10 рекомендаций или ранжирования? И топ-10 ли?)\n",
    "- Какие товары должны быть в e-mail? Есть ли какие-то ограничения (только акции и т п)?\n",
    "- Сколько денег мы готовы потратить на привлечение 1 юзера? CAC - Customer Aquisition Cost. Обычно CAC = расходы на коммуникацию + расходы на скидки\n",
    "- Cколько мы хотим зарабатывать с одного привлеченного юзера?\n",
    "---\n",
    "- А точно нужно сортировать по вероятности? (наверняка необязательно)\n",
    "- Какую метрику использовать? (можно попробовать использовать косинусную близость с implicit ratings, если рекомендации персонализированные. Или другую \"похожесть\" на ранее купленные товары\".)\n",
    "- Сколько раз в неделю отпрпавляем рассылку? (раз в неделю, не чаще. Ежедневные рассылки чаще всего отправляются в спам или просто пролистываются не привлекая внимания)\n",
    "- В какое время отправляем рассылку? (15:00 — 17:00. В будние дни это время лучше всего подходит для рекламной рассылки. Люди в предвкушении окончания рабочего дня с удовольствием читают любые рекламные письма, а также активно переходят по ссылкам. А в пятницу в это время отсылать письма рискованно. 9:00 — 10:00. Второе по популярности время для почтовой рассылки. В это время люди не только внимательно читают письма любой тематики, но и активно обмениваются интересными ссылками с коллегами. 19:00 — 22:00. Это время интернет-магазинов. Именно в это время люди чаще всего совершают покупки после прочтения рекламного письма. Также в это время люди, как правило, отвечают на письма.)\n",
    "- Будем отправлять одному юзеру много раз наши рекоммендации. Как добиться того, чтобы они хоть немного отличались? (переобучать модель периодически. Для каждого юзера делать список, например, из 50 рекомендаций, а в рассылку включать только 5-10, часть из них из топа, часть рандомно из рекомендованного списка)\n",
    "- Нужно ли, чтобы в одной рассылке были *разные* товары? Как определить, что товары *разные*? Как добиться того, чтобы они были разными?\n",
    "- И многое другое:)"
   ]
  },
  {
   "cell_type": "markdown",
   "metadata": {
    "id": "QQN2KT7JIHy2"
   },
   "source": [
    "**В итоге договорились, что:**\n",
    "- Хотим повысить выручку минимум на 6% за 4 месяца. Будем повышать за счет роста Retention минимум на  3% и среднего чека минимум на 3%\n",
    "- Топ-5 товаров, а не топ-10 (В e-mail 10 выглядят не красиво, в push и на чек больше 5 не влезает)\n",
    "- Рассылаем в e-mail (5% клиентов) и push-уведомлении (20% клиентов), печатаем на чеке (все оффлайн клиенты)\n",
    "- **3 товара с акцией** (Как это учесть? А если на товар была акция 10%, а потом 50%, что будет стоять в user-item матрице?. Вероятно нужно создать некую товарную матрицу, в которой учитывать акции, категории товара и т.д.)\n",
    "- **1 новый товар** (юзер никогда не покупал. Просто фильтруем аутпут ALS? А если у таких товаров очень маленькая вероятность покупки? Может, использовать другую логику/модель? можно рекомендовать товар из списка покупак \"похожих\" юзеров. К примеру если про кино - целевой юзер любитель боевиков, другие любители боевиков высоко оценили фильм N, а целевой юзер его не смотрел, стоит ему это порекомендовать \"на основе его предпочтений\") \n",
    "- **1 товар для роста среднего чека** (товары минимум дороже чем обычно покупает юзер. Как это измерить? На сколько дороже? Сделать статистику по средним затратам на категорию товара, предлагать товары из этой категории дороже полученной цифры. Дороже процентов на 10-20, или исходя из поставленной задачи, товары вдвое дороже обычной покупки вряд ли заинтересуют кого-то)"
   ]
  },
  {
   "cell_type": "markdown",
   "metadata": {
    "id": "X6H1aHqlz2nW"
   },
   "source": [
    "### **Теоретические предположения**"
   ]
  },
  {
   "cell_type": "markdown",
   "metadata": {
    "id": "o_JHMH-f0Jaf"
   },
   "source": [
    "**3 товара с акцией** \n",
    "\n",
    "Если нужно, чтобы в топ-5 наиболее подходящих товаров попало три товара с акцией, то или организуется акция на какие-то из этих пяти, или берем первые топ-N наиболее подходящих, в которые попадают первые три акционных, на данный момент товара. Соответственно, получаем 3 товара с акцией и два первых неакционных товара из топ-5. Акционные товары имеют дополнительно весовую характеристику и соответственно, если меняется процент, то меняется и характеристика, что сказывается на дальнейшем выборе подходящих товаров."
   ]
  },
  {
   "cell_type": "markdown",
   "metadata": {
    "id": "D_-1xA0S1a-X"
   },
   "source": [
    "**1 новый товар**\n",
    "\n",
    "Товар должен быть рекомендован из товаров с наибоее близкими показателями (например, косинусное сходство) к его потребительской корзине (возможно новый сорт или новый вид/подвид какого-либо продукта с новыми качествами). Также можно сделать этот товар с акцией, тем самым мотивировать на покупку (переплетение с предыдущим пунктом - 3 товара с акцией)"
   ]
  },
  {
   "cell_type": "markdown",
   "metadata": {
    "id": "LdrForfM2unV"
   },
   "source": [
    "**1 товар для роста среднего чека**\n",
    "\n",
    "Средний чек - это соотношение суммы покупок к количеству заказов (средний доход с чека). Можно добавить новый товар со скидкой (переплетение с предыдущим пунктом - 1 новый товар), но который всё равно будет добавлять стоимости его корзине. Как было сказано в первом пункте - минимум на 3%."
   ]
  },
  {
   "cell_type": "markdown",
   "metadata": {
    "id": "WIXdY2zL1SGx"
   },
   "source": [
    "### **Практические действия**"
   ]
  },
  {
   "cell_type": "markdown",
   "metadata": {
    "id": "TJVGydM9IHy2"
   },
   "source": [
    "Вопросов стало еще больше. Поэтому сначала делаем **MVP** (Minimum viable product) на e-mail. Показываем его менеджеру, измеряем метрики на юзерах. По фидбеку и метрикам делаем улучшения MVP и раскатываем его на push-уведомления и чеки\n",
    "\n",
    "*Data Science проект* - итеративный процесс!"
   ]
  },
  {
   "cell_type": "code",
   "execution_count": 28,
   "metadata": {
    "id": "YYX_asJ5TRUR"
   },
   "outputs": [],
   "source": [
    "merged_data = pd.merge(data, item_features, how='left')\n"
   ]
  },
  {
   "cell_type": "code",
   "execution_count": 29,
   "metadata": {
    "colab": {
     "base_uri": "https://localhost:8080/",
     "height": 260
    },
    "id": "SvTonDEoTuS5",
    "outputId": "06ae641a-93e1-45d8-d2d5-35ca3ab04e4e"
   },
   "outputs": [
    {
     "data": {
      "text/html": [
       "<div>\n",
       "<style scoped>\n",
       "    .dataframe tbody tr th:only-of-type {\n",
       "        vertical-align: middle;\n",
       "    }\n",
       "\n",
       "    .dataframe tbody tr th {\n",
       "        vertical-align: top;\n",
       "    }\n",
       "\n",
       "    .dataframe thead th {\n",
       "        text-align: right;\n",
       "    }\n",
       "</style>\n",
       "<table border=\"1\" class=\"dataframe\">\n",
       "  <thead>\n",
       "    <tr style=\"text-align: right;\">\n",
       "      <th></th>\n",
       "      <th>user_id</th>\n",
       "      <th>basket_id</th>\n",
       "      <th>day</th>\n",
       "      <th>item_id</th>\n",
       "      <th>quantity</th>\n",
       "      <th>sales_value</th>\n",
       "      <th>store_id</th>\n",
       "      <th>retail_disc</th>\n",
       "      <th>trans_time</th>\n",
       "      <th>week_no</th>\n",
       "      <th>coupon_disc</th>\n",
       "      <th>coupon_match_disc</th>\n",
       "      <th>manufacturer</th>\n",
       "      <th>department</th>\n",
       "      <th>brand</th>\n",
       "      <th>commodity_desc</th>\n",
       "      <th>sub_commodity_desc</th>\n",
       "      <th>curr_size_of_product</th>\n",
       "    </tr>\n",
       "  </thead>\n",
       "  <tbody>\n",
       "    <tr>\n",
       "      <th>0</th>\n",
       "      <td>2375</td>\n",
       "      <td>26984851472</td>\n",
       "      <td>1</td>\n",
       "      <td>1004906</td>\n",
       "      <td>1</td>\n",
       "      <td>1.39</td>\n",
       "      <td>364</td>\n",
       "      <td>-0.6</td>\n",
       "      <td>1631</td>\n",
       "      <td>1</td>\n",
       "      <td>0.0</td>\n",
       "      <td>0.0</td>\n",
       "      <td>69</td>\n",
       "      <td>PRODUCE</td>\n",
       "      <td>Private</td>\n",
       "      <td>POTATOES</td>\n",
       "      <td>POTATOES RUSSET (BULK&amp;BAG)</td>\n",
       "      <td>5 LB</td>\n",
       "    </tr>\n",
       "    <tr>\n",
       "      <th>1</th>\n",
       "      <td>2375</td>\n",
       "      <td>26984851472</td>\n",
       "      <td>1</td>\n",
       "      <td>1033142</td>\n",
       "      <td>1</td>\n",
       "      <td>0.82</td>\n",
       "      <td>364</td>\n",
       "      <td>0.0</td>\n",
       "      <td>1631</td>\n",
       "      <td>1</td>\n",
       "      <td>0.0</td>\n",
       "      <td>0.0</td>\n",
       "      <td>2</td>\n",
       "      <td>PRODUCE</td>\n",
       "      <td>National</td>\n",
       "      <td>ONIONS</td>\n",
       "      <td>ONIONS SWEET (BULK&amp;BAG)</td>\n",
       "      <td>40 LB</td>\n",
       "    </tr>\n",
       "    <tr>\n",
       "      <th>2</th>\n",
       "      <td>2375</td>\n",
       "      <td>26984851472</td>\n",
       "      <td>1</td>\n",
       "      <td>1036325</td>\n",
       "      <td>1</td>\n",
       "      <td>0.99</td>\n",
       "      <td>364</td>\n",
       "      <td>-0.3</td>\n",
       "      <td>1631</td>\n",
       "      <td>1</td>\n",
       "      <td>0.0</td>\n",
       "      <td>0.0</td>\n",
       "      <td>69</td>\n",
       "      <td>PRODUCE</td>\n",
       "      <td>Private</td>\n",
       "      <td>VEGETABLES - ALL OTHERS</td>\n",
       "      <td>CELERY</td>\n",
       "      <td></td>\n",
       "    </tr>\n",
       "  </tbody>\n",
       "</table>\n",
       "</div>"
      ],
      "text/plain": [
       "   user_id    basket_id  day  item_id  quantity  sales_value  store_id  \\\n",
       "0     2375  26984851472    1  1004906         1         1.39       364   \n",
       "1     2375  26984851472    1  1033142         1         0.82       364   \n",
       "2     2375  26984851472    1  1036325         1         0.99       364   \n",
       "\n",
       "   retail_disc  trans_time  week_no  coupon_disc  coupon_match_disc  \\\n",
       "0         -0.6        1631        1          0.0                0.0   \n",
       "1          0.0        1631        1          0.0                0.0   \n",
       "2         -0.3        1631        1          0.0                0.0   \n",
       "\n",
       "   manufacturer department     brand           commodity_desc  \\\n",
       "0            69    PRODUCE   Private                 POTATOES   \n",
       "1             2    PRODUCE  National                   ONIONS   \n",
       "2            69    PRODUCE   Private  VEGETABLES - ALL OTHERS   \n",
       "\n",
       "           sub_commodity_desc curr_size_of_product  \n",
       "0  POTATOES RUSSET (BULK&BAG)                 5 LB  \n",
       "1     ONIONS SWEET (BULK&BAG)                40 LB  \n",
       "2                      CELERY                       "
      ]
     },
     "execution_count": 29,
     "metadata": {},
     "output_type": "execute_result"
    }
   ],
   "source": [
    "merged_data.head(3)"
   ]
  },
  {
   "cell_type": "code",
   "execution_count": null,
   "metadata": {
    "id": "WzWXQV_ik990"
   },
   "outputs": [],
   "source": [
    "def prefilter_items(data):\n",
    "\n",
    "    data['price'] = data['sales_value'] / (np.maximum(data['quantity'], 1))\n",
    "\n",
    "    # Самые популярные товары\n",
    "    popularity = data.groupby('item_id')['user_id'].nunique().reset_index() \n",
    "    popularity['share_unique_users'] = popularity['user_id'] / data['user_id'].nunique()\n",
    "    \n",
    "    # Уберем самые популярные товары\n",
    "    top_popular = popularity[popularity['share_unique_users'] > 0.005].item_id.tolist()\n",
    "    popul = data[~data['item_id'].isin(top_popular)]\n",
    "\n",
    "    # Уберем самые НЕ популярные товары (их и так НЕ купят)\n",
    "    top_notpopular = popularity[popularity['share_unique_users'] < 0.0005].item_id.tolist()\n",
    "    notpopul = popul[~popul['item_id'].isin(top_notpopular)]\n",
    "\n",
    "    # Уберем не интересные для рекоммендаций категории (department). Оставим первые 10 категорий\n",
    "    categories = data.groupby('department').count().reset_index().sort_values('item_id', ascending = False)[:10]\n",
    "    categories = categories.department.tolist()\n",
    "    res = notpopul[~notpopul['item_id'].isin(categories)]\n",
    "    print(res.shape)\n",
    "\n",
    "    # Уберем товары, которые не продавались за последние 12 месяцев\n",
    "    res.drop(res[res.week_no > 52].index, inplace=True)\n",
    "\n",
    "    # Уберем дешевые товары Покупки меньше 1$. \n",
    "    res.drop(res[res['price'] < 1].index, inplace=True)\n",
    "\n",
    "    # Уберем дорогие товары. Покупки больше 100$.\n",
    "    res.drop(res[res['price'] > 100].index, inplace=True)\n",
    "\n",
    "    return res\n",
    "\n",
    "   \n",
    "def postfilter_items(user_id, recommednations):\n",
    "    pass"
   ]
  },
  {
   "cell_type": "code",
   "execution_count": 30,
   "metadata": {},
   "outputs": [],
   "source": [
    "from sklearn.model_selection import GridSearchCV"
   ]
  },
  {
   "cell_type": "code",
   "execution_count": 32,
   "metadata": {},
   "outputs": [],
   "source": [
    "parameters = {'factors': [100], 'regularization': [0.001, 0.01, 0.0001], 'iterations': [10, 15, 20]}"
   ]
  },
  {
   "cell_type": "code",
   "execution_count": 44,
   "metadata": {},
   "outputs": [
    {
     "ename": "TypeError",
     "evalue": "recommend() takes at least 3 positional arguments (0 given)",
     "output_type": "error",
     "traceback": [
      "\u001b[1;31m---------------------------------------------------------------------------\u001b[0m",
      "\u001b[1;31mTypeError\u001b[0m                                 Traceback (most recent call last)",
      "\u001b[1;32m<ipython-input-44-3ffe40784667>\u001b[0m in \u001b[0;36m<module>\u001b[1;34m\u001b[0m\n\u001b[0;32m      4\u001b[0m                                     \u001b[0mfilter_already_liked_items\u001b[0m\u001b[1;33m=\u001b[0m\u001b[1;32mFalse\u001b[0m\u001b[1;33m,\u001b[0m\u001b[1;33m\u001b[0m\u001b[1;33m\u001b[0m\u001b[0m\n\u001b[0;32m      5\u001b[0m                                     \u001b[0mfilter_items\u001b[0m\u001b[1;33m=\u001b[0m\u001b[1;32mNone\u001b[0m\u001b[1;33m,\u001b[0m\u001b[1;33m\u001b[0m\u001b[1;33m\u001b[0m\u001b[0m\n\u001b[1;32m----> 6\u001b[1;33m                                     recalculate_user=False)\n\u001b[0m",
      "\u001b[1;32mimplicit/recommender_base.pyx\u001b[0m in \u001b[0;36mimplicit.recommender_base.MatrixFactorizationBase.recommend\u001b[1;34m()\u001b[0m\n",
      "\u001b[1;31mTypeError\u001b[0m: recommend() takes at least 3 positional arguments (0 given)"
     ]
    }
   ],
   "source": [
    "recommended_list = AlternatingLeastSquares.recommend(userid=userid_to_id[56], \n",
    "                                    user_items=sparse_user_item,\n",
    "                                    N=5,\n",
    "                                    filter_already_liked_items=False, \n",
    "                                    filter_items=None, \n",
    "                                    recalculate_user=False)"
   ]
  },
  {
   "cell_type": "code",
   "execution_count": 36,
   "metadata": {},
   "outputs": [
    {
     "ename": "NameError",
     "evalue": "name 'recommended_list' is not defined",
     "output_type": "error",
     "traceback": [
      "\u001b[1;31m---------------------------------------------------------------------------\u001b[0m",
      "\u001b[1;31mNameError\u001b[0m                                 Traceback (most recent call last)",
      "\u001b[1;32m<ipython-input-36-513dc3e0bd73>\u001b[0m in \u001b[0;36m<module>\u001b[1;34m\u001b[0m\n\u001b[1;32m----> 1\u001b[1;33m \u001b[0mGS\u001b[0m \u001b[1;33m=\u001b[0m \u001b[0mGridSearchCV\u001b[0m\u001b[1;33m(\u001b[0m\u001b[0mAlternatingLeastSquares\u001b[0m\u001b[1;33m,\u001b[0m \u001b[0mparameters\u001b[0m\u001b[1;33m,\u001b[0m \u001b[0mscoring\u001b[0m\u001b[1;33m=\u001b[0m\u001b[0mprecision_at_k\u001b[0m\u001b[1;33m(\u001b[0m\u001b[0mrecommended_list\u001b[0m\u001b[1;33m,\u001b[0m \u001b[0mbought_list\u001b[0m\u001b[1;33m,\u001b[0m \u001b[0mk\u001b[0m\u001b[1;33m=\u001b[0m\u001b[1;36m5\u001b[0m\u001b[1;33m)\u001b[0m\u001b[1;33m,\u001b[0m \u001b[0mn_jobs\u001b[0m\u001b[1;33m=\u001b[0m\u001b[1;33m-\u001b[0m\u001b[1;36m1\u001b[0m\u001b[1;33m)\u001b[0m\u001b[1;33m\u001b[0m\u001b[1;33m\u001b[0m\u001b[0m\n\u001b[0m",
      "\u001b[1;31mNameError\u001b[0m: name 'recommended_list' is not defined"
     ]
    }
   ],
   "source": [
    "GS = GridSearchCV(AlternatingLeastSquares, parameters, scoring=precision_at_k(recommended_list, bought_list, k=5), n_jobs=-1)"
   ]
  },
  {
   "cell_type": "code",
   "execution_count": 34,
   "metadata": {},
   "outputs": [
    {
     "ename": "TypeError",
     "evalue": "If no scoring is specified, the estimator passed should have a 'score' method. The estimator <class 'implicit.als.AlternatingLeastSquares'> does not.",
     "output_type": "error",
     "traceback": [
      "\u001b[1;31m---------------------------------------------------------------------------\u001b[0m",
      "\u001b[1;31mTypeError\u001b[0m                                 Traceback (most recent call last)",
      "\u001b[1;32m<ipython-input-34-459931a76f5f>\u001b[0m in \u001b[0;36m<module>\u001b[1;34m\u001b[0m\n\u001b[1;32m----> 1\u001b[1;33m \u001b[0mGS\u001b[0m\u001b[1;33m.\u001b[0m\u001b[0mfit\u001b[0m\u001b[1;33m(\u001b[0m\u001b[0mcsr_matrix\u001b[0m\u001b[1;33m(\u001b[0m\u001b[0muser_item_matrix\u001b[0m\u001b[1;33m)\u001b[0m\u001b[1;33m.\u001b[0m\u001b[0mT\u001b[0m\u001b[1;33m.\u001b[0m\u001b[0mtocsr\u001b[0m\u001b[1;33m(\u001b[0m\u001b[1;33m)\u001b[0m\u001b[1;33m)\u001b[0m\u001b[1;33m\u001b[0m\u001b[1;33m\u001b[0m\u001b[0m\n\u001b[0m",
      "\u001b[1;32m~\\anaconda3\\lib\\site-packages\\sklearn\\model_selection\\_search.py\u001b[0m in \u001b[0;36mfit\u001b[1;34m(self, X, y, groups, **fit_params)\u001b[0m\n\u001b[0;32m    627\u001b[0m \u001b[1;33m\u001b[0m\u001b[0m\n\u001b[0;32m    628\u001b[0m         scorers, self.multimetric_ = _check_multimetric_scoring(\n\u001b[1;32m--> 629\u001b[1;33m             self.estimator, scoring=self.scoring)\n\u001b[0m\u001b[0;32m    630\u001b[0m \u001b[1;33m\u001b[0m\u001b[0m\n\u001b[0;32m    631\u001b[0m         \u001b[1;32mif\u001b[0m \u001b[0mself\u001b[0m\u001b[1;33m.\u001b[0m\u001b[0mmultimetric_\u001b[0m\u001b[1;33m:\u001b[0m\u001b[1;33m\u001b[0m\u001b[1;33m\u001b[0m\u001b[0m\n",
      "\u001b[1;32m~\\anaconda3\\lib\\site-packages\\sklearn\\metrics\\_scorer.py\u001b[0m in \u001b[0;36m_check_multimetric_scoring\u001b[1;34m(estimator, scoring)\u001b[0m\n\u001b[0;32m    471\u001b[0m     if callable(scoring) or scoring is None or isinstance(scoring,\n\u001b[0;32m    472\u001b[0m                                                           str):\n\u001b[1;32m--> 473\u001b[1;33m         \u001b[0mscorers\u001b[0m \u001b[1;33m=\u001b[0m \u001b[1;33m{\u001b[0m\u001b[1;34m\"score\"\u001b[0m\u001b[1;33m:\u001b[0m \u001b[0mcheck_scoring\u001b[0m\u001b[1;33m(\u001b[0m\u001b[0mestimator\u001b[0m\u001b[1;33m,\u001b[0m \u001b[0mscoring\u001b[0m\u001b[1;33m=\u001b[0m\u001b[0mscoring\u001b[0m\u001b[1;33m)\u001b[0m\u001b[1;33m}\u001b[0m\u001b[1;33m\u001b[0m\u001b[1;33m\u001b[0m\u001b[0m\n\u001b[0m\u001b[0;32m    474\u001b[0m         \u001b[1;32mreturn\u001b[0m \u001b[0mscorers\u001b[0m\u001b[1;33m,\u001b[0m \u001b[1;32mFalse\u001b[0m\u001b[1;33m\u001b[0m\u001b[1;33m\u001b[0m\u001b[0m\n\u001b[0;32m    475\u001b[0m     \u001b[1;32melse\u001b[0m\u001b[1;33m:\u001b[0m\u001b[1;33m\u001b[0m\u001b[1;33m\u001b[0m\u001b[0m\n",
      "\u001b[1;32m~\\anaconda3\\lib\\site-packages\\sklearn\\metrics\\_scorer.py\u001b[0m in \u001b[0;36mcheck_scoring\u001b[1;34m(estimator, scoring, allow_none)\u001b[0m\n\u001b[0;32m    424\u001b[0m                 \u001b[1;34m\"If no scoring is specified, the estimator passed should \"\u001b[0m\u001b[1;33m\u001b[0m\u001b[1;33m\u001b[0m\u001b[0m\n\u001b[0;32m    425\u001b[0m                 \u001b[1;34m\"have a 'score' method. The estimator %r does not.\"\u001b[0m\u001b[1;33m\u001b[0m\u001b[1;33m\u001b[0m\u001b[0m\n\u001b[1;32m--> 426\u001b[1;33m                 % estimator)\n\u001b[0m\u001b[0;32m    427\u001b[0m     \u001b[1;32melif\u001b[0m \u001b[0misinstance\u001b[0m\u001b[1;33m(\u001b[0m\u001b[0mscoring\u001b[0m\u001b[1;33m,\u001b[0m \u001b[0mIterable\u001b[0m\u001b[1;33m)\u001b[0m\u001b[1;33m:\u001b[0m\u001b[1;33m\u001b[0m\u001b[1;33m\u001b[0m\u001b[0m\n\u001b[0;32m    428\u001b[0m         raise ValueError(\"For evaluating multiple scores, use \"\n",
      "\u001b[1;31mTypeError\u001b[0m: If no scoring is specified, the estimator passed should have a 'score' method. The estimator <class 'implicit.als.AlternatingLeastSquares'> does not."
     ]
    }
   ],
   "source": [
    "GS.fit(csr_matrix(user_item_matrix).T.tocsr())"
   ]
  },
  {
   "cell_type": "markdown",
   "metadata": {
    "id": "OqYWeY14IHy4"
   },
   "source": [
    "Все эти функции отправим затем в *utils.py*"
   ]
  },
  {
   "cell_type": "markdown",
   "metadata": {
    "id": "NTLlHpYWL4WZ"
   },
   "source": [
    "**ДЗ**\n",
    "\n",
    "1) Попытаться ответить на вопросы/выдвинуть гипотезы\n",
    "\n",
    "2) Доделать прошлые домашния задания\n",
    "\n",
    "3) Прочитать статьи BM25/MatrixFactorization\n",
    "\n",
    "4) Поэкспериментировать с ALS (grid-search)"
   ]
  },
  {
   "cell_type": "markdown",
   "metadata": {
    "id": "76NP8UPtL4WZ"
   },
   "source": [
    "**Links**\n",
    "\n",
    "BM25\n",
    "\n",
    "https://en.wikipedia.org/wiki/Okapi_BM25#:~:text=BM25%20is%20a%20bag%2Dof,slightly%20different%20components%20and%20parameters.\n",
    "\n",
    "\n",
    "Matrix factorization (ALS, SVD)\n",
    "https://datasciencemadesimpler.wordpress.com/tag/alternating-least-squares/"
   ]
  }
 ],
 "metadata": {
  "colab": {
   "collapsed_sections": [
    "emKiMfLuuqyy"
   ],
   "name": "HW_3_RecSys.ipynb",
   "provenance": []
  },
  "kernelspec": {
   "display_name": "Python 3",
   "language": "python",
   "name": "python3"
  },
  "language_info": {
   "codemirror_mode": {
    "name": "ipython",
    "version": 3
   },
   "file_extension": ".py",
   "mimetype": "text/x-python",
   "name": "python",
   "nbconvert_exporter": "python",
   "pygments_lexer": "ipython3",
   "version": "3.7.6"
  }
 },
 "nbformat": 4,
 "nbformat_minor": 1
}
