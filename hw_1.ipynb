{
 "cells": [
  {
   "cell_type": "markdown",
   "metadata": {
    "id": "425a10d7-caa9-4f84-abff-f528aeb4ab80"
   },
   "source": [
    "# Домашнее задание №1\n",
    "\n",
    "На семинаре мы проходили метрики, необходимо реализовать некоторые из них"
   ]
  },
  {
   "cell_type": "code",
   "execution_count": 1,
   "metadata": {
    "id": "6f4acf2d-e8a0-469a-8463-6dc26521c554"
   },
   "outputs": [],
   "source": [
    "import numpy as np\n",
    "import pandas as pd"
   ]
  },
  {
   "cell_type": "markdown",
   "metadata": {
    "id": "38a80a25-4ea6-49c9-a0f4-c7fc2a80dcc1"
   },
   "source": [
    "## Задание 1. Реализовать метрики Recall@k и  Money Recall@k\n",
    "\n",
    "*Recall* - доля рекомендованных товаров среди релевантных = Какой % купленных товаров был среди рекомендованных\n",
    "\n",
    "$$\\Large Recall@K(i) = \\frac {\\sum_{j=1}^{K}\\mathbb{1}_{r_{ij}}}{|Rel_i|}$$\n",
    "\n",
    "$\\Large |Rel_i|$ -- количество релевантных товаров для пользователя $i$\n",
    "\n",
    "$$\\Large MoneyRecall@K(i) = \\frac {\\sum_{j=1}^{K}\\mathbb{1}_{r_{ij}}\\cdot Price(j)}{\\sum_{s\\in Rel_i}Price(s)}$$\n"
   ]
  },
  {
   "cell_type": "code",
   "execution_count": 55,
   "metadata": {},
   "outputs": [
    {
     "data": {
      "text/plain": [
       "1"
      ]
     },
     "execution_count": 55,
     "metadata": {},
     "output_type": "execute_result"
    }
   ],
   "source": [
    "recommended_list = [12, 13, 15, 98, 63, 39, 58, 95, 69, 200]\n",
    "bought_list = [98, 205, 13] \n",
    "np.isin(recommended_list, bought_list)\n",
    "\n",
    "prices_recommended = [32, 43, 45, 65, 23, 56, 78, 79, 20, 18]\n",
    "prices_bought = [65, 98, 43]\n",
    "\n",
    "flags = np.isin(recommended_list, bought_list)\n",
    "list(flags).index(True)"
   ]
  },
  {
   "cell_type": "code",
   "execution_count": 43,
   "metadata": {
    "id": "34a7db81-664c-4c9b-92c0-d565fa5487fc"
   },
   "outputs": [],
   "source": [
    "def recall_at_k(recommended_list, bought_list, k=5):\n",
    "    \n",
    "    bought_list = np.array(bought_list)\n",
    "    recommended_list = np.array(recommended_list[:k])    \n",
    "    flags = np.isin(recommended_list, bought_list)    \n",
    "    return flags.sum() / len(bought_list)\n",
    "\n",
    "\n",
    "def money_recall_at_k(recommended_list, bought_list, prices_recommended, prices_bought, k=5):\n",
    "    bought_list = np.array(bought_list)\n",
    "    recommended_list = np.array(recommended_list[:k])\n",
    "    prices_recommended = np.array(prices_recommended[:k])\n",
    "    prices_bought = np.array(prices_bought)\n",
    "    flags = np.isin(recommended_list, bought_list)  \n",
    "    \n",
    "    mr = sum(flags * prices_recommended) / sum(prices_bought)\n",
    "    \n",
    "    return mr"
   ]
  },
  {
   "cell_type": "code",
   "execution_count": 44,
   "metadata": {},
   "outputs": [
    {
     "data": {
      "text/plain": [
       "0.3333333333333333"
      ]
     },
     "execution_count": 44,
     "metadata": {},
     "output_type": "execute_result"
    }
   ],
   "source": [
    "recall_at_k(recommended_list, bought_list, k=3)"
   ]
  },
  {
   "cell_type": "code",
   "execution_count": 45,
   "metadata": {},
   "outputs": [
    {
     "data": {
      "text/plain": [
       "0.2087378640776699"
      ]
     },
     "execution_count": 45,
     "metadata": {},
     "output_type": "execute_result"
    }
   ],
   "source": [
    "money_recall_at_k(recommended_list, bought_list, prices_recommended, prices_bought, k=3)"
   ]
  },
  {
   "cell_type": "markdown",
   "metadata": {
    "id": "b42d4d0d-6073-47b6-ad54-586a477405e5"
   },
   "source": [
    "## Задание 2. Реализовать метрику MRR@k\n",
    "\n",
    "Mean Reciprocal Rank\n",
    "\n",
    "- Считаем для первых k рекомендаций\n",
    "- Найти ранк первого релевантного предсказания $\\Large rank_j$\n",
    "- Посчитать reciprocal rank = $\\Large\\frac{1}{rank_j}$\n",
    "\n",
    "$$\\Large  MMR(i)@k=\\frac {1}{\\min\\limits_{j\\in Rel(i)} rank_j}$$"
   ]
  },
  {
   "cell_type": "code",
   "execution_count": 58,
   "metadata": {
    "id": "9c8940da-3621-4a54-8236-810a42ed4b77"
   },
   "outputs": [],
   "source": [
    "def mrr_at_k(recommended_list, bought_list, k=5):\n",
    "    bought_list = np.array(bought_list)\n",
    "    recommended_list = np.array(recommended_list[:k])\n",
    "    flags = np.isin(recommended_list, bought_list) \n",
    "    rank = list(flags).index(True) + 1\n",
    "    \n",
    "    return 1 / rank"
   ]
  },
  {
   "cell_type": "code",
   "execution_count": 59,
   "metadata": {},
   "outputs": [
    {
     "data": {
      "text/plain": [
       "0.5"
      ]
     },
     "execution_count": 59,
     "metadata": {},
     "output_type": "execute_result"
    }
   ],
   "source": [
    "mrr_at_k(recommended_list, bought_list, k=5)"
   ]
  },
  {
   "cell_type": "markdown",
   "metadata": {
    "id": "1c3008cc-fd9e-44c6-8913-43d71ffb9cd7"
   },
   "source": [
    "## Задание 3*. Реализовать метрику nDCG@k\n",
    "Normalized discounted cumulative gain. Эту метрику реализовать будет немного сложнее.\n",
    "\n",
    "$$\\Large DCG@K(i) = \\sum_{j=1}^{K}\\frac{\\mathbb{1}_{r_{ij}}}{\\log_2 (j+1)}$$\n",
    "\n",
    "\n",
    "$\\Large \\mathbb{1}_{r_{ij}}$ -- индикаторная функция показывает что пользователь $i$ провзаимодействовал с продуктом $j$\n",
    "\n",
    "Для подсчета $nDCG$ нам необходимо найти максимально возможный $DCG$ для пользователя $i$  и рекомендаций длины $K$.\n",
    "Максимальный $DCG$ достигается когда мы порекомендовали максимально возможное количество релевантных продуктов и все они в начале списка рекомендаций.\n",
    "\n",
    "$$\\Large IDCG@K(i) = max(DCG@K(i)) = \\sum_{j=1}^{K}\\frac{\\mathbb{1}_{j\\le|Rel_i|}}{\\log_2 (j+1)}$$\n",
    "\n",
    "$$\\Large nDCG@K(i) = \\frac {DCG@K(i)}{IDCG@K(i)}$$\n",
    "\n",
    "$\\Large |Rel_i|$ -- количество релевантных продуктов для пользователя $i$\n",
    "\n"
   ]
  },
  {
   "cell_type": "code",
   "execution_count": 100,
   "metadata": {
    "id": "67d7e53c-dfd8-4423-a107-f85880a45c7e"
   },
   "outputs": [],
   "source": [
    "def ndcg_at_k(recommended_list, bought_list, k=5):\n",
    "    bought_list = np.array(bought_list)\n",
    "    recommended_list = np.array(recommended_list[:k])\n",
    "    flags = np.isin(recommended_list, bought_list) \n",
    "    DCG = sum(sum(list(map(lambda x: 1 / np.log2(x + 2), np.where(flags == True))))) #надо плюс два потому что np.where возвращает индекс, а не номер\n",
    "    iDCG = sum(list(map(lambda x: 1 / np.log2(x + 2), list(range(len(bought_list)))))) #надо плюс два потому что range с нуля нумерует\n",
    "    \n",
    "    return DCG / iDCG\n",
    "    "
   ]
  },
  {
   "cell_type": "code",
   "execution_count": 101,
   "metadata": {},
   "outputs": [
    {
     "data": {
      "text/plain": [
       "0.49818925746641285"
      ]
     },
     "execution_count": 101,
     "metadata": {},
     "output_type": "execute_result"
    }
   ],
   "source": [
    "ndcg_at_k(recommended_list, bought_list, k=5)"
   ]
  },
  {
   "cell_type": "code",
   "execution_count": null,
   "metadata": {},
   "outputs": [],
   "source": []
  }
 ],
 "metadata": {
  "colab": {
   "provenance": []
  },
  "kernelspec": {
   "display_name": "Python 3",
   "language": "python",
   "name": "python3"
  },
  "language_info": {
   "codemirror_mode": {
    "name": "ipython",
    "version": 3
   },
   "file_extension": ".py",
   "mimetype": "text/x-python",
   "name": "python",
   "nbconvert_exporter": "python",
   "pygments_lexer": "ipython3",
   "version": "3.7.6"
  }
 },
 "nbformat": 4,
 "nbformat_minor": 5
}
